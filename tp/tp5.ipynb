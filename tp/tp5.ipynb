{
 "cells": [
  {
   "cell_type": "code",
   "execution_count": 1,
   "metadata": {},
   "outputs": [
    {
     "data": {
      "text/plain": [
       "4"
      ]
     },
     "execution_count": 1,
     "metadata": {},
     "output_type": "execute_result"
    }
   ],
   "source": [
    "#fonction predef lambda x----> f(x):2*x\n",
    "g = lambda x:2*x\n",
    "g(2)"
   ]
  },
  {
   "cell_type": "code",
   "execution_count": 2,
   "metadata": {},
   "outputs": [
    {
     "data": {
      "text/plain": [
       "5"
      ]
     },
     "execution_count": 2,
     "metadata": {},
     "output_type": "execute_result"
    }
   ],
   "source": [
    "g = lambda x,y:2*x+y\n",
    "g(2,1)"
   ]
  },
  {
   "cell_type": "code",
   "execution_count": 3,
   "metadata": {},
   "outputs": [
    {
     "data": {
      "text/plain": [
       "[1, 2, 3, 4, 5, 6]"
      ]
     },
     "execution_count": 3,
     "metadata": {},
     "output_type": "execute_result"
    }
   ],
   "source": [
    "# etendre la liste avec extend\n",
    "x = [1,2,3]\n",
    "x.extend([4,5,6])\n",
    "x"
   ]
  },
  {
   "cell_type": "code",
   "execution_count": 4,
   "metadata": {},
   "outputs": [
    {
     "data": {
      "text/plain": [
       "[4, 5, 6, 1, 2, 3]"
      ]
     },
     "execution_count": 4,
     "metadata": {},
     "output_type": "execute_result"
    }
   ],
   "source": [
    "x = [1,2,3]\n",
    "y = [4,5,6]+x\n",
    "y"
   ]
  },
  {
   "cell_type": "code",
   "execution_count": 5,
   "metadata": {},
   "outputs": [
    {
     "data": {
      "text/plain": [
       "6"
      ]
     },
     "execution_count": 5,
     "metadata": {},
     "output_type": "execute_result"
    }
   ],
   "source": [
    "y[-1]\n",
    "len(y)"
   ]
  },
  {
   "cell_type": "code",
   "execution_count": 9,
   "metadata": {},
   "outputs": [
    {
     "name": "stdout",
     "output_type": "stream",
     "text": [
      "1\n",
      "2\n"
     ]
    }
   ],
   "source": [
    "#x reçoi premier elem et y prend deuxieme elem\n",
    "x,y=[1,2]\n",
    "print(x)\n",
    "print(y)"
   ]
  },
  {
   "cell_type": "code",
   "execution_count": 10,
   "metadata": {},
   "outputs": [
    {
     "name": "stdout",
     "output_type": "stream",
     "text": [
      "1\n",
      "2\n"
     ]
    }
   ],
   "source": [
    "# _ pour dire quelque soit (nimp)\n",
    "_,y=[1,2]\n",
    "print(x)\n",
    "print(y)"
   ]
  },
  {
   "cell_type": "code",
   "execution_count": 11,
   "metadata": {},
   "outputs": [
    {
     "name": "stdout",
     "output_type": "stream",
     "text": [
      "(5, 6)\n",
      "15\n",
      "50\n"
     ]
    }
   ],
   "source": [
    "#la fonction retourne deux res sous forme d'un tuple\n",
    "#on peut séparer les resullt s,p=fonct()\n",
    "def sum_product(x,y):\n",
    "    return (x+y),(x*y)\n",
    "sp = sum_product(2,3)\n",
    "s,p =sum_product(5,10)\n",
    "print(sp)\n",
    "print(s)\n",
    "print(p)"
   ]
  },
  {
   "cell_type": "code",
   "execution_count": 12,
   "metadata": {},
   "outputs": [
    {
     "name": "stdout",
     "output_type": "stream",
     "text": [
      "80\n",
      "True\n",
      "False\n"
     ]
    }
   ],
   "source": [
    "# dictionnaire caractérisé par une clé et valeur\n",
    "grades = {\"joel\" : 80,\"tim\" : 95}\n",
    "joels_grade = grades[\"joel\"]\n",
    "joel_has_grad = \"joel\" in grades\n",
    "kate_has_grad = \"kate\" in grades\n",
    "print(joels_grade)\n",
    "print(joel_has_grad)\n",
    "print(kate_has_grad)\n"
   ]
  },
  {
   "cell_type": "code",
   "execution_count": 14,
   "metadata": {},
   "outputs": [
    {
     "name": "stdout",
     "output_type": "stream",
     "text": [
      "{'joel': 80, 'tim': 99, 'kate': 100}\n",
      "3\n"
     ]
    }
   ],
   "source": [
    "#modif la valeur de la clé tim dans grades\n",
    "grades[\"tim\"] = 99 \n",
    "# ajout de la clé et valeur de kate car elle n existe pas dans grades \n",
    "grades[\"kate\"] = 100\n",
    "print(grades)\n",
    "print(len(grades))"
   ]
  },
  {
   "cell_type": "code",
   "execution_count": 16,
   "metadata": {},
   "outputs": [
    {
     "name": "stdout",
     "output_type": "stream",
     "text": [
      "dict_keys(['joel', 'tim', 'kate'])\n",
      "dict_values([80, 99, 100])\n",
      "dict_items([('joel', 80), ('tim', 99), ('kate', 100)])\n"
     ]
    }
   ],
   "source": [
    "\n",
    "print(grades.keys())\n",
    "print(grades.values())\n",
    "print(grades.items())"
   ]
  },
  {
   "cell_type": "code",
   "execution_count": 33,
   "metadata": {},
   "outputs": [
    {
     "data": {
      "text/plain": [
       "14"
      ]
     },
     "execution_count": 33,
     "metadata": {},
     "output_type": "execute_result"
    }
   ],
   "source": [
    "def calculSom(grade):\n",
    "    som = 0\n",
    "    for i in grade:\n",
    "        if(i==\"c1\"):\n",
    "            som = som + grade[i]\n",
    "        if(i==\"c4\"):\n",
    "            som = som + grade[i]\n",
    "        if(i==\"c7\"):\n",
    "            som = som + grade[i]\n",
    "    return som\n",
    "d = { \"c1\" : 1,\"c2\" :2,\"c4\":4,\"c7\":9}\n",
    "calculSom(d)"
   ]
  },
  {
   "cell_type": "code",
   "execution_count": 40,
   "metadata": {},
   "outputs": [
    {
     "data": {
      "text/plain": [
       "14"
      ]
     },
     "execution_count": 40,
     "metadata": {},
     "output_type": "execute_result"
    }
   ],
   "source": [
    "#soluce 2\n",
    "def calculSom(grade):\n",
    "    som = 0\n",
    "    for i in grade:\n",
    "        if (i in [\"c1\",\"c4\",\"c7\"]):\n",
    "            som = som + grade[i]\n",
    "    return som\n",
    "d = { \"c1\" : 1,\"c2\" :2,\"c4\":4,\"c7\":9}\n",
    "calculSom(d)"
   ]
  },
  {
   "cell_type": "code",
   "execution_count": 41,
   "metadata": {},
   "outputs": [
    {
     "name": "stdout",
     "output_type": "stream",
     "text": [
      "(('c1', 1), ('c2', 2), ('c4', 4), ('c7', 9))\n"
     ]
    },
    {
     "data": {
      "text/plain": [
       "14"
      ]
     },
     "execution_count": 41,
     "metadata": {},
     "output_type": "execute_result"
    }
   ],
   "source": [
    "#sol 3\n",
    "def calculSom(diction):\n",
    "    som = 0\n",
    "    # convertion du dictionnaire vers tuple\n",
    "    d = tuple(diction.items())\n",
    "    print(d)\n",
    "    for i in d:\n",
    "        # i[0] prend  la clé et i[1] prend la valeur \n",
    "        if( i[0] in [\"c1\",\"c4\",\"c7\"]):\n",
    "            som = som + i[1]\n",
    "    return som\n",
    "d = { \"c1\" : 1,\"c2\" :2,\"c4\":4,\"c7\":9}\n",
    "calculSom(d)"
   ]
  },
  {
   "cell_type": "code",
   "execution_count": 43,
   "metadata": {},
   "outputs": [
    {
     "name": "stdout",
     "output_type": "stream",
     "text": [
      "Counter({0: 2, 1: 1, 2: 1})\n"
     ]
    }
   ],
   "source": [
    "#Counter retoune un dictionnaire contenant les occuence de chaque valeur de la list \n",
    "from collections import Counter\n",
    "c = Counter([0,1,2,0])\n",
    "print(c)"
   ]
  },
  {
   "cell_type": "code",
   "execution_count": 46,
   "metadata": {},
   "outputs": [
    {
     "name": "stdout",
     "output_type": "stream",
     "text": [
      "y =  [1, 2, 3, 4]\n",
      "x =  [4, 1, 2, 3]\n",
      "x= [1, 2, 3, 4]\n"
     ]
    }
   ],
   "source": [
    "#tri croissant \n",
    "x = [4,1,2,3]\n",
    "y = sorted(x)\n",
    "print(\"y = \",y)\n",
    "print(\"x = \",x)\n",
    "x.sort()\n",
    "print(\"x=\",x)"
   ]
  },
  {
   "cell_type": "code",
   "execution_count": 47,
   "metadata": {},
   "outputs": [
    {
     "name": "stdout",
     "output_type": "stream",
     "text": [
      "x =  [-4, 3, -2, 1]\n"
     ]
    }
   ],
   "source": [
    "#tri décroissant avec option reverse true et key=abs pour dire faire le tri avec la valeur absolut existante dans la list\n",
    "x = sorted([-4,1,-2,3], key=abs, reverse=True)\n",
    "print(\"x = \",x)"
   ]
  },
  {
   "cell_type": "code",
   "execution_count": 50,
   "metadata": {},
   "outputs": [
    {
     "name": "stdout",
     "output_type": "stream",
     "text": [
      "[0, 2, 4]\n",
      "[0, 1, 4, 9, 16]\n",
      "[0, 4, 16]\n"
     ]
    }
   ],
   "source": [
    "# retourne une list\n",
    "even_number = [x for x in range(5) if x%2==0]\n",
    "square_number = [x * x for x in range(5)]\n",
    "even_square = [x * x for x in even_number]\n",
    "print(even_number)\n",
    "print(square_number)\n",
    "print(even_square)"
   ]
  },
  {
   "cell_type": "code",
   "execution_count": 51,
   "metadata": {},
   "outputs": [
    {
     "name": "stdout",
     "output_type": "stream",
     "text": [
      "{0: 0, 1: 1, 2: 4, 3: 9, 4: 16}\n"
     ]
    }
   ],
   "source": [
    "#\n",
    "square_dic = {x: x*x for x in range(5)}\n",
    "print(square_dic)"
   ]
  },
  {
   "cell_type": "code",
   "execution_count": 52,
   "metadata": {},
   "outputs": [
    {
     "name": "stdout",
     "output_type": "stream",
     "text": [
      "[(0, 0), (0, 1), (0, 2), (0, 3), (0, 4), (0, 5), (0, 6), (0, 7), (0, 8), (0, 9), (1, 0), (1, 1), (1, 2), (1, 3), (1, 4), (1, 5), (1, 6), (1, 7), (1, 8), (1, 9), (2, 0), (2, 1), (2, 2), (2, 3), (2, 4), (2, 5), (2, 6), (2, 7), (2, 8), (2, 9), (3, 0), (3, 1), (3, 2), (3, 3), (3, 4), (3, 5), (3, 6), (3, 7), (3, 8), (3, 9), (4, 0), (4, 1), (4, 2), (4, 3), (4, 4), (4, 5), (4, 6), (4, 7), (4, 8), (4, 9), (5, 0), (5, 1), (5, 2), (5, 3), (5, 4), (5, 5), (5, 6), (5, 7), (5, 8), (5, 9), (6, 0), (6, 1), (6, 2), (6, 3), (6, 4), (6, 5), (6, 6), (6, 7), (6, 8), (6, 9), (7, 0), (7, 1), (7, 2), (7, 3), (7, 4), (7, 5), (7, 6), (7, 7), (7, 8), (7, 9), (8, 0), (8, 1), (8, 2), (8, 3), (8, 4), (8, 5), (8, 6), (8, 7), (8, 8), (8, 9), (9, 0), (9, 1), (9, 2), (9, 3), (9, 4), (9, 5), (9, 6), (9, 7), (9, 8), (9, 9)]\n"
     ]
    }
   ],
   "source": [
    "# retourne les \n",
    "pairs = [(x,y) for x in range(10) for y in range(10)]\n",
    "print(pairs)"
   ]
  },
  {
   "cell_type": "code",
   "execution_count": 53,
   "metadata": {},
   "outputs": [
    {
     "data": {
      "text/plain": [
       "[0.4355166445529691,\n",
       " 0.8205320692741924,\n",
       " 0.8333154155862875,\n",
       " 0.24514467748352275]"
      ]
     },
     "execution_count": 53,
     "metadata": {},
     "output_type": "execute_result"
    }
   ],
   "source": [
    "\n",
    "import random\n",
    "four_uniform_random = [random.random() for _ in range(4)]\n",
    "four_uniform_random"
   ]
  },
  {
   "cell_type": "code",
   "execution_count": null,
   "metadata": {},
   "outputs": [],
   "source": []
  }
 ],
 "metadata": {
  "kernelspec": {
   "display_name": "Python 3",
   "language": "python",
   "name": "python3"
  },
  "language_info": {
   "codemirror_mode": {
    "name": "ipython",
    "version": 3
   },
   "file_extension": ".py",
   "mimetype": "text/x-python",
   "name": "python",
   "nbconvert_exporter": "python",
   "pygments_lexer": "ipython3",
   "version": "3.7.4"
  }
 },
 "nbformat": 4,
 "nbformat_minor": 2
}
