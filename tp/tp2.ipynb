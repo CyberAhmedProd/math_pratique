{
 "cells": [
  {
   "cell_type": "code",
   "execution_count": 5,
   "metadata": {},
   "outputs": [
    {
     "name": "stdout",
     "output_type": "stream",
     "text": [
      "0.5235987755982988\n",
      "1.0471975511965976\n",
      "1.5707963267948966\n"
     ]
    }
   ],
   "source": [
    "from math import pi\n",
    "def degrees_to_radians(theta_d):\n",
    "    \"\"\" Convert an angle from degrees to radians. Parameters ---------- theta_d : float The angle in\n",
    "        degrees. Returns ------- theta_r : float The angle in radian\"\"\"\n",
    "    theta_r = pi / 180.0 * theta_d\n",
    "    return theta_r\n",
    "print(degrees_to_radians(30.0))\n",
    "print(degrees_to_radians(60.0))\n",
    "print(degrees_to_radians(90.0))"
   ]
  },
  {
   "cell_type": "code",
   "execution_count": 6,
   "metadata": {},
   "outputs": [
    {
     "name": "stdout",
     "output_type": "stream",
     "text": [
      "1.1\n",
      "1.1\n"
     ]
    }
   ],
   "source": [
    "\"\"\" Variables globales == locales \"\"\"\n",
    "x1 = 1.1\n",
    "def print_x1():\n",
    "    print(x1)\n",
    "print(x1)\n",
    "print_x1()"
   ]
  },
  {
   "cell_type": "code",
   "execution_count": 7,
   "metadata": {},
   "outputs": [
    {
     "name": "stdout",
     "output_type": "stream",
     "text": [
      "1.2\n",
      "2.3\n"
     ]
    }
   ],
   "source": [
    "\"\"\" Variables globales != locales \"\"\"\n",
    "x2 = 1.2\n",
    "def print_x2():\n",
    "    x2 = 2.3\n",
    "    print(x2)\n",
    "print(x2)\n",
    "print_x2()"
   ]
  },
  {
   "cell_type": "code",
   "execution_count": 9,
   "metadata": {},
   "outputs": [
    {
     "name": "stdout",
     "output_type": "stream",
     "text": [
      "args: (1,)\n"
     ]
    },
    {
     "data": {
      "text/plain": [
       "1"
      ]
     },
     "execution_count": 9,
     "metadata": {},
     "output_type": "execute_result"
    }
   ],
   "source": [
    "\"\"\" une fonction qui prend un nombre arbitraire d'arguments \"\"\"\n",
    "def add(*args):\n",
    "    print ('args:', args)\n",
    "    s=0\n",
    "    for arg in args:\n",
    "        s = s + arg\n",
    "    return s\n",
    "add(1)"
   ]
  },
  {
   "cell_type": "code",
   "execution_count": 10,
   "metadata": {},
   "outputs": [
    {
     "name": "stdout",
     "output_type": "stream",
     "text": [
      "args: (1, 5, 10)\n"
     ]
    },
    {
     "data": {
      "text/plain": [
       "16"
      ]
     },
     "execution_count": 10,
     "metadata": {},
     "output_type": "execute_result"
    }
   ],
   "source": [
    "add(1,5,10)"
   ]
  },
  {
   "cell_type": "code",
   "execution_count": 11,
   "metadata": {},
   "outputs": [
    {
     "name": "stdout",
     "output_type": "stream",
     "text": [
      "0.0\n",
      "0.2617993877991494\n",
      "0.5235987755982988\n",
      "0.7853981633974483\n",
      "1.0471975511965976\n",
      "1.3089969389957472\n",
      "1.5707963267948966\n"
     ]
    }
   ],
   "source": [
    "\"\"\" Boucle while \"\"\"\n",
    "theta_d = 0.0\n",
    "while theta_d <= 90.0:\n",
    "    print(degrees_to_radians(theta_d))\n",
    "    theta_d = theta_d + 15.0"
   ]
  },
  {
   "cell_type": "code",
   "execution_count": 12,
   "metadata": {},
   "outputs": [
    {
     "name": "stdout",
     "output_type": "stream",
     "text": [
      "0.2617993877991494\n",
      "0.5235987755982988\n",
      "0.7853981633974483\n",
      "1.0471975511965976\n",
      "1.3089969389957472\n",
      "1.5707963267948966\n"
     ]
    }
   ],
   "source": [
    "\"\"\" Boucle For si on a un tuple\"\"\"\n",
    "steps = 1, 2, 3, 4, 5, 6\n",
    "for n in steps:\n",
    "    print(degrees_to_radians(15*n))"
   ]
  },
  {
   "cell_type": "code",
   "execution_count": 13,
   "metadata": {},
   "outputs": [
    {
     "name": "stdout",
     "output_type": "stream",
     "text": [
      "0.2617993877991494\n",
      "0.5235987755982988\n",
      "0.7853981633974483\n",
      "1.0471975511965976\n",
      "1.3089969389957472\n",
      "1.5707963267948966\n"
     ]
    }
   ],
   "source": [
    "\"\"\" boucle avec range pas par défaut 1\"\"\"\n",
    "for n in range(1,7):\n",
    "    print(degrees_to_radians(15*n))"
   ]
  },
  {
   "cell_type": "code",
   "execution_count": 15,
   "metadata": {},
   "outputs": [],
   "source": [
    "\"\"\" les list on peut les modifier \"\"\"\n",
    "list1 = [1, 2, 3, 4, 5, 6]\n",
    "list2 = [15.0, 30.0, 45.0, 60.0, 75.0, 90.0]\n",
    "list3 = [1, 2.3, True, degrees_to_radians]\n",
    "list4 = [\"hello\", list1, False]\n",
    "list5 = []"
   ]
  },
  {
   "cell_type": "code",
   "execution_count": 17,
   "metadata": {},
   "outputs": [
    {
     "name": "stdout",
     "output_type": "stream",
     "text": [
      "1\n",
      "[2, 3]\n",
      "[3, 4, 5, 6]\n",
      "[1, 2, 3, 4]\n"
     ]
    }
   ],
   "source": [
    "print(list1[0])\n",
    "\"\"\" list de l element du début jusqu'a l element de la fin -1\"\"\"\n",
    "print(list1[1:3])\n",
    "print(list1[2:])\n",
    "print(list1[:4])"
   ]
  },
  {
   "cell_type": "code",
   "execution_count": 18,
   "metadata": {},
   "outputs": [],
   "source": [
    "\"\"\" les tuples on peut pas les changer \"\"\"\n",
    "tuple1 = 1, 2, 3, 4, 5, 6\n",
    "tuple2 = (15.0, 30.0, 45.0, 60.0, 75.0, 90.0)\n",
    "tuple3 = (1, 2.3, True, degrees_to_radians)\n",
    "tuple4 = (\"hello\", list1, False)\n",
    "tuple5 = ()\n",
    "tuple6 = (5,)"
   ]
  },
  {
   "cell_type": "code",
   "execution_count": 20,
   "metadata": {},
   "outputs": [],
   "source": [
    "\"\"\" Structure conditionnelle \"\"\"\n",
    "from math import pi\n",
    "def check_angle_normalized(theta_d):\n",
    "    \"\"\" Check that an angle lies within [0, 360] degrees. Parameters -------\"\"\"\n",
    "    normalized = True\n",
    "    if theta_d > 360.0:\n",
    "        normalized = False\n",
    "        print(\"Input angle greater than 360 degrees\")\n",
    "    if theta_d < 0.0:\n",
    "        normalized = False\n",
    "        print(\"Input angle less than 0 degrees\")\n",
    "    return normalized"
   ]
  },
  {
   "cell_type": "code",
   "execution_count": 21,
   "metadata": {},
   "outputs": [
    {
     "name": "stdout",
     "output_type": "stream",
     "text": [
      "Input angle greater than 360 degrees\n"
     ]
    },
    {
     "data": {
      "text/plain": [
       "False"
      ]
     },
     "execution_count": 21,
     "metadata": {},
     "output_type": "execute_result"
    }
   ],
   "source": [
    "check_angle_normalized(370)"
   ]
  },
  {
   "cell_type": "code",
   "execution_count": 40,
   "metadata": {},
   "outputs": [
    {
     "name": "stdout",
     "output_type": "stream",
     "text": [
      "Input angle greater than 360 degrees. Did you mean this?\n",
      "False\n",
      "Input angle less than 0 degrees. Did you mean this?\n",
      "False\n",
      "Input angle in range [0, 360] degrees. Good.\n",
      "True\n"
     ]
    }
   ],
   "source": [
    "from math import pi\n",
    "def check_angle_normalized(theta_d): \n",
    "    \"\"\"Check that an angle lies within [0, 360] degrees. Parameters -------\"\"\"\n",
    "    normalized = True\n",
    "    if theta_d > 360.0:\n",
    "        normalized = False\n",
    "        print(\"Input angle greater than 360 degrees. Did you mean this?\")\n",
    "    elif theta_d < 0.0:\n",
    "        normalized = False\n",
    "        print(\"Input angle less than 0 degrees. Did you mean this?\")\n",
    "    else:\n",
    "        print(\"Input angle in range [0, 360] degrees. Good.\")\n",
    "    return normalized\n",
    "\n",
    "theta_d=543.2\n",
    "print(check_angle_normalized(theta_d))\n",
    "theta_d=-123.4\n",
    "print(check_angle_normalized(theta_d))\n",
    "theta_d=89.12 \n",
    "print(check_angle_normalized(theta_d))\n"
   ]
  },
  {
   "cell_type": "code",
   "execution_count": 41,
   "metadata": {},
   "outputs": [
    {
     "data": {
      "text/plain": [
       "Fraction(3, 4)"
      ]
     },
     "execution_count": 41,
     "metadata": {},
     "output_type": "execute_result"
    }
   ],
   "source": [
    "\"\"\" les fractions \"\"\"\n",
    "from fractions import Fraction\n",
    "f = Fraction(3, 4)\n",
    "f\n",
    "Fraction(3, 4)"
   ]
  },
  {
   "cell_type": "code",
   "execution_count": 42,
   "metadata": {},
   "outputs": [
    {
     "data": {
      "text/plain": [
       "3.25"
      ]
     },
     "execution_count": 42,
     "metadata": {},
     "output_type": "execute_result"
    }
   ],
   "source": [
    "\"\"\" float > fraction\"\"\"\n",
    "Fraction(3, 4) + 1 + 1.5"
   ]
  },
  {
   "cell_type": "code",
   "execution_count": 43,
   "metadata": {},
   "outputs": [
    {
     "data": {
      "text/plain": [
       "Fraction(2, 1)"
      ]
     },
     "execution_count": 43,
     "metadata": {},
     "output_type": "execute_result"
    }
   ],
   "source": [
    "\"\"\" fraction >> int \"\"\"\n",
    "Fraction(3, 4) + 1 + Fraction(1,4)"
   ]
  },
  {
   "cell_type": "code",
   "execution_count": 44,
   "metadata": {},
   "outputs": [
    {
     "data": {
      "text/plain": [
       "complex"
      ]
     },
     "execution_count": 44,
     "metadata": {},
     "output_type": "execute_result"
    }
   ],
   "source": [
    "\"\"\" nombres complex \"\"\"\n",
    "a = 2 + 3j\n",
    "type(a)"
   ]
  },
  {
   "cell_type": "code",
   "execution_count": 45,
   "metadata": {},
   "outputs": [
    {
     "data": {
      "text/plain": [
       "(2+3j)"
      ]
     },
     "execution_count": 45,
     "metadata": {},
     "output_type": "execute_result"
    }
   ],
   "source": [
    "a = complex(2, 3)\n",
    "a"
   ]
  },
  {
   "cell_type": "code",
   "execution_count": 46,
   "metadata": {},
   "outputs": [
    {
     "data": {
      "text/plain": [
       "(5+6j)"
      ]
     },
     "execution_count": 46,
     "metadata": {},
     "output_type": "execute_result"
    }
   ],
   "source": [
    "b = 3 + 3j\n",
    "a + b"
   ]
  },
  {
   "cell_type": "code",
   "execution_count": 47,
   "metadata": {},
   "outputs": [
    {
     "data": {
      "text/plain": [
       "(-1+0j)"
      ]
     },
     "execution_count": 47,
     "metadata": {},
     "output_type": "execute_result"
    }
   ],
   "source": [
    "a - b"
   ]
  },
  {
   "cell_type": "code",
   "execution_count": 48,
   "metadata": {},
   "outputs": [
    {
     "data": {
      "text/plain": [
       "(-3+15j)"
      ]
     },
     "execution_count": 48,
     "metadata": {},
     "output_type": "execute_result"
    }
   ],
   "source": [
    "a * b"
   ]
  },
  {
   "cell_type": "code",
   "execution_count": 49,
   "metadata": {},
   "outputs": [
    {
     "data": {
      "text/plain": [
       "(0.8333333333333334+0.16666666666666666j)"
      ]
     },
     "execution_count": 49,
     "metadata": {},
     "output_type": "execute_result"
    }
   ],
   "source": [
    "a / b"
   ]
  },
  {
   "cell_type": "code",
   "execution_count": 52,
   "metadata": {},
   "outputs": [
    {
     "data": {
      "text/plain": [
       "2.0"
      ]
     },
     "execution_count": 52,
     "metadata": {},
     "output_type": "execute_result"
    }
   ],
   "source": [
    "\"\"\" reel de z \"\"\"\n",
    "z = 2 + 3j\n",
    "z.real"
   ]
  },
  {
   "cell_type": "code",
   "execution_count": 53,
   "metadata": {},
   "outputs": [
    {
     "data": {
      "text/plain": [
       "3.0"
      ]
     },
     "execution_count": 53,
     "metadata": {},
     "output_type": "execute_result"
    }
   ],
   "source": [
    "\"\"\" imaginaire de z \"\"\"\n",
    "z.imag"
   ]
  },
  {
   "cell_type": "code",
   "execution_count": 54,
   "metadata": {},
   "outputs": [
    {
     "data": {
      "text/plain": [
       "(2-3j)"
      ]
     },
     "execution_count": 54,
     "metadata": {},
     "output_type": "execute_result"
    }
   ],
   "source": [
    "z.conjugate()"
   ]
  },
  {
   "cell_type": "code",
   "execution_count": 55,
   "metadata": {},
   "outputs": [
    {
     "data": {
      "text/plain": [
       "3.6055512754639896"
      ]
     },
     "execution_count": 55,
     "metadata": {},
     "output_type": "execute_result"
    }
   ],
   "source": [
    "\"\"\" (z.real ** 2 + z.imag ** 2) ** 0.5 \"\"\"\n",
    "abs(z)"
   ]
  },
  {
   "cell_type": "code",
   "execution_count": 58,
   "metadata": {},
   "outputs": [
    {
     "name": "stdout",
     "output_type": "stream",
     "text": [
      "8\n"
     ]
    }
   ],
   "source": [
    "\"\"\" valeur string de a \"\"\"\n",
    "a = input()"
   ]
  },
  {
   "cell_type": "code",
   "execution_count": 59,
   "metadata": {},
   "outputs": [
    {
     "data": {
      "text/plain": [
       "9"
      ]
     },
     "execution_count": 59,
     "metadata": {},
     "output_type": "execute_result"
    }
   ],
   "source": [
    "\"\"\" cast ou force la valeur de a en entier \"\"\"\n",
    "int(a) + 1"
   ]
  },
  {
   "cell_type": "code",
   "execution_count": 60,
   "metadata": {},
   "outputs": [
    {
     "data": {
      "text/plain": [
       "9.0"
      ]
     },
     "execution_count": 60,
     "metadata": {},
     "output_type": "execute_result"
    }
   ],
   "source": [
    "\"\"\" cast ou force la valeur de a en reel \"\"\"\n",
    "float(a) + 1"
   ]
  },
  {
   "cell_type": "code",
   "execution_count": null,
   "metadata": {},
   "outputs": [],
   "source": [
    "\"\"\" exception \"\"\"\n",
    "try:\n",
    "    a = float(input('Enter a number: '))\n",
    "except ValueError:\n",
    "    print('You entered an invalid number')"
   ]
  },
  {
   "cell_type": "code",
   "execution_count": null,
   "metadata": {},
   "outputs": [],
   "source": [
    "\"\"\" exception \"\"\"\n",
    "try:\n",
    "    a = float(input('Enter a number: '))\n",
    "except ValueError:\n",
    "    print('You entered an invalid number')"
   ]
  },
  {
   "cell_type": "code",
   "execution_count": null,
   "metadata": {},
   "outputs": [],
   "source": [
    "try:\n",
    "    a = Fraction(input('Enter a fraction: '))\n",
    "except ZeroDivisionError:\n",
    "    print('Invalid fraction')"
   ]
  },
  {
   "cell_type": "code",
   "execution_count": null,
   "metadata": {},
   "outputs": [],
   "source": [
    "try:\n",
    "    a = Fraction(input('Enter a fraction: '))\n",
    "    except ZeroDivisionError:\n",
    "        print('Invalid fraction')"
   ]
  },
  {
   "cell_type": "code",
   "execution_count": null,
   "metadata": {},
   "outputs": [],
   "source": []
  }
 ],
 "metadata": {
  "kernelspec": {
   "display_name": "Python 3",
   "language": "python",
   "name": "python3"
  },
  "language_info": {
   "codemirror_mode": {
    "name": "ipython",
    "version": 3
   },
   "file_extension": ".py",
   "mimetype": "text/x-python",
   "name": "python",
   "nbconvert_exporter": "python",
   "pygments_lexer": "ipython3",
   "version": "3.7.4"
  }
 },
 "nbformat": 4,
 "nbformat_minor": 2
}
